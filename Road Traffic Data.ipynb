{
 "cells": [
  {
   "cell_type": "code",
   "execution_count": 1,
   "id": "26218477",
   "metadata": {},
   "outputs": [],
   "source": [
    "import numpy as np\n",
    "import pandas as pd\n",
    "\n",
    "pd.options.display.max_columns = 100"
   ]
  },
  {
   "cell_type": "code",
   "execution_count": 2,
   "id": "43168576",
   "metadata": {},
   "outputs": [
    {
     "data": {
      "text/html": [
       "<div>\n",
       "<style scoped>\n",
       "    .dataframe tbody tr th:only-of-type {\n",
       "        vertical-align: middle;\n",
       "    }\n",
       "\n",
       "    .dataframe tbody tr th {\n",
       "        vertical-align: top;\n",
       "    }\n",
       "\n",
       "    .dataframe thead th {\n",
       "        text-align: right;\n",
       "    }\n",
       "</style>\n",
       "<table border=\"1\" class=\"dataframe\">\n",
       "  <thead>\n",
       "    <tr style=\"text-align: right;\">\n",
       "      <th></th>\n",
       "      <th>COUNTSTATIONID</th>\n",
       "      <th>DIR</th>\n",
       "      <th>COUNTDATE</th>\n",
       "      <th>HOUR0</th>\n",
       "      <th>HOUR1</th>\n",
       "      <th>HOUR2</th>\n",
       "      <th>HOUR3</th>\n",
       "      <th>HOUR4</th>\n",
       "      <th>HOUR5</th>\n",
       "      <th>HOUR6</th>\n",
       "      <th>HOUR7</th>\n",
       "      <th>HOUR8</th>\n",
       "      <th>HOUR9</th>\n",
       "      <th>HOUR10</th>\n",
       "      <th>HOUR11</th>\n",
       "      <th>HOUR12</th>\n",
       "      <th>HOUR13</th>\n",
       "      <th>HOUR14</th>\n",
       "      <th>HOUR15</th>\n",
       "      <th>HOUR16</th>\n",
       "      <th>HOUR17</th>\n",
       "      <th>HOUR18</th>\n",
       "      <th>HOUR19</th>\n",
       "      <th>HOUR20</th>\n",
       "      <th>HOUR21</th>\n",
       "      <th>HOUR22</th>\n",
       "      <th>HOUR23</th>\n",
       "    </tr>\n",
       "  </thead>\n",
       "  <tbody>\n",
       "    <tr>\n",
       "      <th>0</th>\n",
       "      <td>1</td>\n",
       "      <td>EAST</td>\n",
       "      <td>2019-11-19</td>\n",
       "      <td>4</td>\n",
       "      <td>6</td>\n",
       "      <td>5</td>\n",
       "      <td>6</td>\n",
       "      <td>13</td>\n",
       "      <td>16</td>\n",
       "      <td>43</td>\n",
       "      <td>70</td>\n",
       "      <td>117</td>\n",
       "      <td>67</td>\n",
       "      <td>61</td>\n",
       "      <td>62</td>\n",
       "      <td>70</td>\n",
       "      <td>64</td>\n",
       "      <td>65</td>\n",
       "      <td>74</td>\n",
       "      <td>84</td>\n",
       "      <td>52</td>\n",
       "      <td>49</td>\n",
       "      <td>35</td>\n",
       "      <td>23</td>\n",
       "      <td>24</td>\n",
       "      <td>17</td>\n",
       "      <td>9</td>\n",
       "    </tr>\n",
       "    <tr>\n",
       "      <th>1</th>\n",
       "      <td>1</td>\n",
       "      <td>EAST</td>\n",
       "      <td>2019-11-20</td>\n",
       "      <td>104</td>\n",
       "      <td>6</td>\n",
       "      <td>4</td>\n",
       "      <td>3</td>\n",
       "      <td>10</td>\n",
       "      <td>16</td>\n",
       "      <td>34</td>\n",
       "      <td>81</td>\n",
       "      <td>62</td>\n",
       "      <td>119</td>\n",
       "      <td>58</td>\n",
       "      <td>70</td>\n",
       "      <td>69</td>\n",
       "      <td>84</td>\n",
       "      <td>71</td>\n",
       "      <td>57</td>\n",
       "      <td>70</td>\n",
       "      <td>70</td>\n",
       "      <td>30</td>\n",
       "      <td>192</td>\n",
       "      <td>26</td>\n",
       "      <td>17</td>\n",
       "      <td>15</td>\n",
       "      <td>5</td>\n",
       "    </tr>\n",
       "    <tr>\n",
       "      <th>2</th>\n",
       "      <td>1</td>\n",
       "      <td>EAST</td>\n",
       "      <td>2019-11-21</td>\n",
       "      <td>2</td>\n",
       "      <td>2</td>\n",
       "      <td>3</td>\n",
       "      <td>4</td>\n",
       "      <td>10</td>\n",
       "      <td>14</td>\n",
       "      <td>32</td>\n",
       "      <td>71</td>\n",
       "      <td>69</td>\n",
       "      <td>66</td>\n",
       "      <td>60</td>\n",
       "      <td>52</td>\n",
       "      <td>69</td>\n",
       "      <td>345</td>\n",
       "      <td>312</td>\n",
       "      <td>97</td>\n",
       "      <td>64</td>\n",
       "      <td>70</td>\n",
       "      <td>48</td>\n",
       "      <td>46</td>\n",
       "      <td>21</td>\n",
       "      <td>18</td>\n",
       "      <td>9</td>\n",
       "      <td>4</td>\n",
       "    </tr>\n",
       "    <tr>\n",
       "      <th>3</th>\n",
       "      <td>1</td>\n",
       "      <td>EAST</td>\n",
       "      <td>2019-11-22</td>\n",
       "      <td>5</td>\n",
       "      <td>3</td>\n",
       "      <td>9</td>\n",
       "      <td>6</td>\n",
       "      <td>6</td>\n",
       "      <td>18</td>\n",
       "      <td>35</td>\n",
       "      <td>93</td>\n",
       "      <td>49</td>\n",
       "      <td>70</td>\n",
       "      <td>129</td>\n",
       "      <td>58</td>\n",
       "      <td>78</td>\n",
       "      <td>74</td>\n",
       "      <td>88</td>\n",
       "      <td>114</td>\n",
       "      <td>102</td>\n",
       "      <td>165</td>\n",
       "      <td>79</td>\n",
       "      <td>47</td>\n",
       "      <td>42</td>\n",
       "      <td>31</td>\n",
       "      <td>22</td>\n",
       "      <td>16</td>\n",
       "    </tr>\n",
       "    <tr>\n",
       "      <th>4</th>\n",
       "      <td>1</td>\n",
       "      <td>EAST</td>\n",
       "      <td>2019-11-23</td>\n",
       "      <td>8</td>\n",
       "      <td>5</td>\n",
       "      <td>3</td>\n",
       "      <td>3</td>\n",
       "      <td>9</td>\n",
       "      <td>22</td>\n",
       "      <td>26</td>\n",
       "      <td>31</td>\n",
       "      <td>105</td>\n",
       "      <td>40</td>\n",
       "      <td>38</td>\n",
       "      <td>64</td>\n",
       "      <td>45</td>\n",
       "      <td>45</td>\n",
       "      <td>63</td>\n",
       "      <td>55</td>\n",
       "      <td>57</td>\n",
       "      <td>54</td>\n",
       "      <td>55</td>\n",
       "      <td>50</td>\n",
       "      <td>224</td>\n",
       "      <td>34</td>\n",
       "      <td>19</td>\n",
       "      <td>8</td>\n",
       "    </tr>\n",
       "  </tbody>\n",
       "</table>\n",
       "</div>"
      ],
      "text/plain": [
       "   COUNTSTATIONID   DIR  COUNTDATE  HOUR0  HOUR1  HOUR2  HOUR3  HOUR4  HOUR5  \\\n",
       "0               1  EAST 2019-11-19      4      6      5      6     13     16   \n",
       "1               1  EAST 2019-11-20    104      6      4      3     10     16   \n",
       "2               1  EAST 2019-11-21      2      2      3      4     10     14   \n",
       "3               1  EAST 2019-11-22      5      3      9      6      6     18   \n",
       "4               1  EAST 2019-11-23      8      5      3      3      9     22   \n",
       "\n",
       "   HOUR6  HOUR7  HOUR8  HOUR9  HOUR10  HOUR11  HOUR12  HOUR13  HOUR14  HOUR15  \\\n",
       "0     43     70    117     67      61      62      70      64      65      74   \n",
       "1     34     81     62    119      58      70      69      84      71      57   \n",
       "2     32     71     69     66      60      52      69     345     312      97   \n",
       "3     35     93     49     70     129      58      78      74      88     114   \n",
       "4     26     31    105     40      38      64      45      45      63      55   \n",
       "\n",
       "   HOUR16  HOUR17  HOUR18  HOUR19  HOUR20  HOUR21  HOUR22  HOUR23  \n",
       "0      84      52      49      35      23      24      17       9  \n",
       "1      70      70      30     192      26      17      15       5  \n",
       "2      64      70      48      46      21      18       9       4  \n",
       "3     102     165      79      47      42      31      22      16  \n",
       "4      57      54      55      50     224      34      19       8  "
      ]
     },
     "execution_count": 2,
     "metadata": {},
     "output_type": "execute_result"
    }
   ],
   "source": [
    "traffic_df = pd.read_csv('cdot_traffic.csv',parse_dates=['COUNTDATE'])\n",
    "\n",
    "traffic_df.head()"
   ]
  },
  {
   "cell_type": "code",
   "execution_count": 3,
   "id": "ec5b5b78",
   "metadata": {},
   "outputs": [
    {
     "data": {
      "text/html": [
       "<div>\n",
       "<style scoped>\n",
       "    .dataframe tbody tr th:only-of-type {\n",
       "        vertical-align: middle;\n",
       "    }\n",
       "\n",
       "    .dataframe tbody tr th {\n",
       "        vertical-align: top;\n",
       "    }\n",
       "\n",
       "    .dataframe thead th {\n",
       "        text-align: right;\n",
       "    }\n",
       "</style>\n",
       "<table border=\"1\" class=\"dataframe\">\n",
       "  <thead>\n",
       "    <tr style=\"text-align: right;\">\n",
       "      <th></th>\n",
       "      <th>Location</th>\n",
       "      <th>Latitude</th>\n",
       "      <th>Longitude</th>\n",
       "    </tr>\n",
       "    <tr>\n",
       "      <th>COUNTSTATIONID</th>\n",
       "      <th></th>\n",
       "      <th></th>\n",
       "      <th></th>\n",
       "    </tr>\n",
       "  </thead>\n",
       "  <tbody>\n",
       "    <tr>\n",
       "      <th>1</th>\n",
       "      <td>ON SH 6 E/O SH 59, HAXTUN</td>\n",
       "      <td>40.629710</td>\n",
       "      <td>-102.572141</td>\n",
       "    </tr>\n",
       "    <tr>\n",
       "      <th>2</th>\n",
       "      <td>ON I-70 W/O SH 36, AIR PARK RD, AURORA</td>\n",
       "      <td>39.739875</td>\n",
       "      <td>-104.671758</td>\n",
       "    </tr>\n",
       "    <tr>\n",
       "      <th>3</th>\n",
       "      <td>ON SH 470 NW/O SH 85, SANTA FE DR, LITTLETON</td>\n",
       "      <td>39.567108</td>\n",
       "      <td>-105.054139</td>\n",
       "    </tr>\n",
       "    <tr>\n",
       "      <th>4</th>\n",
       "      <td>ON SH 36 SE/O SH 170, MCCASLIN BLVD, SUPERIOR</td>\n",
       "      <td>39.946916</td>\n",
       "      <td>-105.148988</td>\n",
       "    </tr>\n",
       "    <tr>\n",
       "      <th>7</th>\n",
       "      <td>ON SH 14 MI E/O CR 33, AULT</td>\n",
       "      <td>40.582532</td>\n",
       "      <td>-104.747863</td>\n",
       "    </tr>\n",
       "  </tbody>\n",
       "</table>\n",
       "</div>"
      ],
      "text/plain": [
       "                                                     Location   Latitude  \\\n",
       "COUNTSTATIONID                                                             \n",
       "1                                   ON SH 6 E/O SH 59, HAXTUN  40.629710   \n",
       "2                      ON I-70 W/O SH 36, AIR PARK RD, AURORA  39.739875   \n",
       "3                ON SH 470 NW/O SH 85, SANTA FE DR, LITTLETON  39.567108   \n",
       "4               ON SH 36 SE/O SH 170, MCCASLIN BLVD, SUPERIOR  39.946916   \n",
       "7                                 ON SH 14 MI E/O CR 33, AULT  40.582532   \n",
       "\n",
       "                 Longitude  \n",
       "COUNTSTATIONID              \n",
       "1              -102.572141  \n",
       "2              -104.671758  \n",
       "3              -105.054139  \n",
       "4              -105.148988  \n",
       "7              -104.747863  "
      ]
     },
     "execution_count": 3,
     "metadata": {},
     "output_type": "execute_result"
    }
   ],
   "source": [
    "station_df = pd.read_csv('cdot_stations.csv',index_col='COUNTSTATIONID')\n",
    "\n",
    "station_df.head()"
   ]
  },
  {
   "cell_type": "raw",
   "id": "7d5f2245",
   "metadata": {},
   "source": [
    "id_vars = ['COUNTSTATIONID','DIR','COUNTDATE']"
   ]
  },
  {
   "cell_type": "code",
   "execution_count": 4,
   "id": "a1d591f4",
   "metadata": {},
   "outputs": [
    {
     "data": {
      "text/plain": [
       "(237624, 27)"
      ]
     },
     "execution_count": 4,
     "metadata": {},
     "output_type": "execute_result"
    }
   ],
   "source": [
    "traffic_df.shape"
   ]
  },
  {
   "cell_type": "code",
   "execution_count": 5,
   "id": "01445050",
   "metadata": {},
   "outputs": [
    {
     "data": {
      "text/plain": [
       "5702976"
      ]
     },
     "execution_count": 5,
     "metadata": {},
     "output_type": "execute_result"
    }
   ],
   "source": [
    "237624 * 24"
   ]
  },
  {
   "cell_type": "code",
   "execution_count": 6,
   "id": "14759146",
   "metadata": {},
   "outputs": [
    {
     "data": {
      "text/html": [
       "<div>\n",
       "<style scoped>\n",
       "    .dataframe tbody tr th:only-of-type {\n",
       "        vertical-align: middle;\n",
       "    }\n",
       "\n",
       "    .dataframe tbody tr th {\n",
       "        vertical-align: top;\n",
       "    }\n",
       "\n",
       "    .dataframe thead th {\n",
       "        text-align: right;\n",
       "    }\n",
       "</style>\n",
       "<table border=\"1\" class=\"dataframe\">\n",
       "  <thead>\n",
       "    <tr style=\"text-align: right;\">\n",
       "      <th></th>\n",
       "      <th>COUNTSTATIONID</th>\n",
       "      <th>DIR</th>\n",
       "      <th>COUNTDATE</th>\n",
       "      <th>Hour</th>\n",
       "      <th>Count</th>\n",
       "    </tr>\n",
       "  </thead>\n",
       "  <tbody>\n",
       "    <tr>\n",
       "      <th>0</th>\n",
       "      <td>1</td>\n",
       "      <td>EAST</td>\n",
       "      <td>2019-11-19</td>\n",
       "      <td>HOUR0</td>\n",
       "      <td>4</td>\n",
       "    </tr>\n",
       "    <tr>\n",
       "      <th>1</th>\n",
       "      <td>1</td>\n",
       "      <td>EAST</td>\n",
       "      <td>2019-11-20</td>\n",
       "      <td>HOUR0</td>\n",
       "      <td>104</td>\n",
       "    </tr>\n",
       "    <tr>\n",
       "      <th>2</th>\n",
       "      <td>1</td>\n",
       "      <td>EAST</td>\n",
       "      <td>2019-11-21</td>\n",
       "      <td>HOUR0</td>\n",
       "      <td>2</td>\n",
       "    </tr>\n",
       "    <tr>\n",
       "      <th>3</th>\n",
       "      <td>1</td>\n",
       "      <td>EAST</td>\n",
       "      <td>2019-11-22</td>\n",
       "      <td>HOUR0</td>\n",
       "      <td>5</td>\n",
       "    </tr>\n",
       "    <tr>\n",
       "      <th>4</th>\n",
       "      <td>1</td>\n",
       "      <td>EAST</td>\n",
       "      <td>2019-11-23</td>\n",
       "      <td>HOUR0</td>\n",
       "      <td>8</td>\n",
       "    </tr>\n",
       "  </tbody>\n",
       "</table>\n",
       "</div>"
      ],
      "text/plain": [
       "   COUNTSTATIONID   DIR  COUNTDATE   Hour  Count\n",
       "0               1  EAST 2019-11-19  HOUR0      4\n",
       "1               1  EAST 2019-11-20  HOUR0    104\n",
       "2               1  EAST 2019-11-21  HOUR0      2\n",
       "3               1  EAST 2019-11-22  HOUR0      5\n",
       "4               1  EAST 2019-11-23  HOUR0      8"
      ]
     },
     "execution_count": 6,
     "metadata": {},
     "output_type": "execute_result"
    }
   ],
   "source": [
    "traffic_tidy_df = pd.melt(\n",
    "    traffic_df,\n",
    "    id_vars = ['COUNTSTATIONID','DIR','COUNTDATE'],\n",
    "    var_name = 'Hour',\n",
    "    value_name = 'Count'\n",
    ")\n",
    "\n",
    "traffic_tidy_df.head()"
   ]
  },
  {
   "cell_type": "code",
   "execution_count": 7,
   "id": "8dd1b963",
   "metadata": {},
   "outputs": [
    {
     "data": {
      "text/plain": [
       "(5702976, 5)"
      ]
     },
     "execution_count": 7,
     "metadata": {},
     "output_type": "execute_result"
    }
   ],
   "source": [
    "traffic_tidy_df.shape"
   ]
  },
  {
   "cell_type": "code",
   "execution_count": 8,
   "id": "1aa034ce",
   "metadata": {},
   "outputs": [],
   "source": [
    "traffic_tidy_df['Year'] = traffic_tidy_df['COUNTDATE'].dt.year"
   ]
  },
  {
   "cell_type": "code",
   "execution_count": 9,
   "id": "02e69b10",
   "metadata": {},
   "outputs": [],
   "source": [
    "traffic_tidy_df['Month'] = traffic_tidy_df['COUNTDATE'].dt.month"
   ]
  },
  {
   "cell_type": "code",
   "execution_count": 10,
   "id": "640ed17c",
   "metadata": {},
   "outputs": [
    {
     "data": {
      "text/html": [
       "<div>\n",
       "<style scoped>\n",
       "    .dataframe tbody tr th:only-of-type {\n",
       "        vertical-align: middle;\n",
       "    }\n",
       "\n",
       "    .dataframe tbody tr th {\n",
       "        vertical-align: top;\n",
       "    }\n",
       "\n",
       "    .dataframe thead th {\n",
       "        text-align: right;\n",
       "    }\n",
       "</style>\n",
       "<table border=\"1\" class=\"dataframe\">\n",
       "  <thead>\n",
       "    <tr style=\"text-align: right;\">\n",
       "      <th></th>\n",
       "      <th></th>\n",
       "      <th></th>\n",
       "      <th></th>\n",
       "      <th>Count</th>\n",
       "    </tr>\n",
       "    <tr>\n",
       "      <th>COUNTSTATIONID</th>\n",
       "      <th>DIR</th>\n",
       "      <th>Year</th>\n",
       "      <th>Month</th>\n",
       "      <th></th>\n",
       "    </tr>\n",
       "  </thead>\n",
       "  <tbody>\n",
       "    <tr>\n",
       "      <th rowspan=\"5\" valign=\"top\">1</th>\n",
       "      <th rowspan=\"5\" valign=\"top\">EAST</th>\n",
       "      <th rowspan=\"5\" valign=\"top\">2019</th>\n",
       "      <th>1</th>\n",
       "      <td>26495</td>\n",
       "    </tr>\n",
       "    <tr>\n",
       "      <th>2</th>\n",
       "      <td>21824</td>\n",
       "    </tr>\n",
       "    <tr>\n",
       "      <th>3</th>\n",
       "      <td>24799</td>\n",
       "    </tr>\n",
       "    <tr>\n",
       "      <th>4</th>\n",
       "      <td>29980</td>\n",
       "    </tr>\n",
       "    <tr>\n",
       "      <th>5</th>\n",
       "      <td>31243</td>\n",
       "    </tr>\n",
       "  </tbody>\n",
       "</table>\n",
       "</div>"
      ],
      "text/plain": [
       "                                Count\n",
       "COUNTSTATIONID DIR  Year Month       \n",
       "1              EAST 2019 1      26495\n",
       "                         2      21824\n",
       "                         3      24799\n",
       "                         4      29980\n",
       "                         5      31243"
      ]
     },
     "execution_count": 10,
     "metadata": {},
     "output_type": "execute_result"
    }
   ],
   "source": [
    "station_agg_traffic = traffic_tidy_df.groupby(['COUNTSTATIONID','DIR','Year','Month']).agg({'Count':'sum'})\n",
    "station_agg_traffic.head()\n"
   ]
  },
  {
   "cell_type": "code",
   "execution_count": 11,
   "id": "086ecc1b",
   "metadata": {},
   "outputs": [],
   "source": [
    "mccaslin_east_2019 = station_agg_traffic.loc[(4,'EAST',2019,3),'Count']\n",
    "mccaslin_east_2020 = station_agg_traffic.loc[(4,'EAST',2020,3),'Count']\n",
    "\n",
    "mccaslin_west_2019 = station_agg_traffic.loc[(4,'WEST',2019,3),'Count']\n",
    "mccaslin_west_2020 = station_agg_traffic.loc[(4,'WEST',2020,3),'Count']"
   ]
  },
  {
   "cell_type": "code",
   "execution_count": 12,
   "id": "90f117b1",
   "metadata": {},
   "outputs": [
    {
     "data": {
      "text/plain": [
       "'Eastbound traffic at McCaslin was -25.75% March 2019 to March 2020'"
      ]
     },
     "execution_count": 12,
     "metadata": {},
     "output_type": "execute_result"
    }
   ],
   "source": [
    "east_diff = (mccaslin_east_2020 - mccaslin_east_2019) / mccaslin_east_2019\n",
    "\"Eastbound traffic at McCaslin was {:.2%} March 2019 to March 2020\".format(east_diff)\n"
   ]
  },
  {
   "cell_type": "code",
   "execution_count": 13,
   "id": "e4e12443",
   "metadata": {},
   "outputs": [
    {
     "data": {
      "text/plain": [
       "'Westbound traffic at McCaslin was -25.96%  March 2019 to March 2020'"
      ]
     },
     "execution_count": 13,
     "metadata": {},
     "output_type": "execute_result"
    }
   ],
   "source": [
    "west_diff = (mccaslin_west_2020 - mccaslin_west_2019) / mccaslin_west_2019\n",
    "\"Westbound traffic at McCaslin was {:.2%}  March 2019 to March 2020\".format(west_diff)\n"
   ]
  },
  {
   "cell_type": "code",
   "execution_count": 14,
   "id": "4e46bd57",
   "metadata": {},
   "outputs": [
    {
     "data": {
      "text/html": [
       "<div>\n",
       "<style scoped>\n",
       "    .dataframe tbody tr th:only-of-type {\n",
       "        vertical-align: middle;\n",
       "    }\n",
       "\n",
       "    .dataframe tbody tr th {\n",
       "        vertical-align: top;\n",
       "    }\n",
       "\n",
       "    .dataframe thead th {\n",
       "        text-align: right;\n",
       "    }\n",
       "</style>\n",
       "<table border=\"1\" class=\"dataframe\">\n",
       "  <thead>\n",
       "    <tr style=\"text-align: right;\">\n",
       "      <th></th>\n",
       "      <th></th>\n",
       "      <th>Year</th>\n",
       "      <th>2019</th>\n",
       "      <th>2020</th>\n",
       "      <th>2021</th>\n",
       "    </tr>\n",
       "    <tr>\n",
       "      <th>COUNTSTATIONID</th>\n",
       "      <th>DIR</th>\n",
       "      <th>Month</th>\n",
       "      <th></th>\n",
       "      <th></th>\n",
       "      <th></th>\n",
       "    </tr>\n",
       "  </thead>\n",
       "  <tbody>\n",
       "    <tr>\n",
       "      <th rowspan=\"5\" valign=\"top\">1</th>\n",
       "      <th rowspan=\"5\" valign=\"top\">EAST</th>\n",
       "      <th>1</th>\n",
       "      <td>26495.0</td>\n",
       "      <td>33190.0</td>\n",
       "      <td>27783.0</td>\n",
       "    </tr>\n",
       "    <tr>\n",
       "      <th>2</th>\n",
       "      <td>21824.0</td>\n",
       "      <td>28178.0</td>\n",
       "      <td>27097.0</td>\n",
       "    </tr>\n",
       "    <tr>\n",
       "      <th>3</th>\n",
       "      <td>24799.0</td>\n",
       "      <td>31093.0</td>\n",
       "      <td>27474.0</td>\n",
       "    </tr>\n",
       "    <tr>\n",
       "      <th>4</th>\n",
       "      <td>29980.0</td>\n",
       "      <td>22033.0</td>\n",
       "      <td>27633.0</td>\n",
       "    </tr>\n",
       "    <tr>\n",
       "      <th>5</th>\n",
       "      <td>31243.0</td>\n",
       "      <td>25051.0</td>\n",
       "      <td>28944.0</td>\n",
       "    </tr>\n",
       "  </tbody>\n",
       "</table>\n",
       "</div>"
      ],
      "text/plain": [
       "Year                          2019     2020     2021\n",
       "COUNTSTATIONID DIR  Month                           \n",
       "1              EAST 1      26495.0  33190.0  27783.0\n",
       "                    2      21824.0  28178.0  27097.0\n",
       "                    3      24799.0  31093.0  27474.0\n",
       "                    4      29980.0  22033.0  27633.0\n",
       "                    5      31243.0  25051.0  28944.0"
      ]
     },
     "execution_count": 14,
     "metadata": {},
     "output_type": "execute_result"
    }
   ],
   "source": [
    "annual_traffic_unstack = station_agg_traffic['Count'].unstack('Year')\n",
    "\n",
    "annual_traffic_unstack.head()"
   ]
  },
  {
   "cell_type": "code",
   "execution_count": 15,
   "id": "16417d97",
   "metadata": {},
   "outputs": [
    {
     "data": {
      "text/html": [
       "<div>\n",
       "<style scoped>\n",
       "    .dataframe tbody tr th:only-of-type {\n",
       "        vertical-align: middle;\n",
       "    }\n",
       "\n",
       "    .dataframe tbody tr th {\n",
       "        vertical-align: top;\n",
       "    }\n",
       "\n",
       "    .dataframe thead th {\n",
       "        text-align: right;\n",
       "    }\n",
       "</style>\n",
       "<table border=\"1\" class=\"dataframe\">\n",
       "  <thead>\n",
       "    <tr style=\"text-align: right;\">\n",
       "      <th></th>\n",
       "      <th></th>\n",
       "      <th>Year</th>\n",
       "      <th>2019</th>\n",
       "      <th>2020</th>\n",
       "      <th>2021</th>\n",
       "      <th>PctDiff_20_19</th>\n",
       "    </tr>\n",
       "    <tr>\n",
       "      <th>COUNTSTATIONID</th>\n",
       "      <th>DIR</th>\n",
       "      <th>Month</th>\n",
       "      <th></th>\n",
       "      <th></th>\n",
       "      <th></th>\n",
       "      <th></th>\n",
       "    </tr>\n",
       "  </thead>\n",
       "  <tbody>\n",
       "    <tr>\n",
       "      <th rowspan=\"5\" valign=\"top\">1</th>\n",
       "      <th rowspan=\"5\" valign=\"top\">EAST</th>\n",
       "      <th>1</th>\n",
       "      <td>26495.0</td>\n",
       "      <td>33190.0</td>\n",
       "      <td>27783.0</td>\n",
       "      <td>0.252689</td>\n",
       "    </tr>\n",
       "    <tr>\n",
       "      <th>2</th>\n",
       "      <td>21824.0</td>\n",
       "      <td>28178.0</td>\n",
       "      <td>27097.0</td>\n",
       "      <td>0.291147</td>\n",
       "    </tr>\n",
       "    <tr>\n",
       "      <th>3</th>\n",
       "      <td>24799.0</td>\n",
       "      <td>31093.0</td>\n",
       "      <td>27474.0</td>\n",
       "      <td>0.253801</td>\n",
       "    </tr>\n",
       "    <tr>\n",
       "      <th>4</th>\n",
       "      <td>29980.0</td>\n",
       "      <td>22033.0</td>\n",
       "      <td>27633.0</td>\n",
       "      <td>-0.265077</td>\n",
       "    </tr>\n",
       "    <tr>\n",
       "      <th>5</th>\n",
       "      <td>31243.0</td>\n",
       "      <td>25051.0</td>\n",
       "      <td>28944.0</td>\n",
       "      <td>-0.198188</td>\n",
       "    </tr>\n",
       "  </tbody>\n",
       "</table>\n",
       "</div>"
      ],
      "text/plain": [
       "Year                          2019     2020     2021  PctDiff_20_19\n",
       "COUNTSTATIONID DIR  Month                                          \n",
       "1              EAST 1      26495.0  33190.0  27783.0       0.252689\n",
       "                    2      21824.0  28178.0  27097.0       0.291147\n",
       "                    3      24799.0  31093.0  27474.0       0.253801\n",
       "                    4      29980.0  22033.0  27633.0      -0.265077\n",
       "                    5      31243.0  25051.0  28944.0      -0.198188"
      ]
     },
     "execution_count": 15,
     "metadata": {},
     "output_type": "execute_result"
    }
   ],
   "source": [
    "annual_traffic_unstack['PctDiff_20_19'] = (annual_traffic_unstack[2020] - annual_traffic_unstack[2019])/annual_traffic_unstack[2019]\n",
    "\n",
    "annual_traffic_unstack.head()"
   ]
  },
  {
   "cell_type": "code",
   "execution_count": 16,
   "id": "263fbd94",
   "metadata": {},
   "outputs": [
    {
     "data": {
      "text/plain": [
       "(105, 'EAST', 4)"
      ]
     },
     "execution_count": 16,
     "metadata": {},
     "output_type": "execute_result"
    }
   ],
   "source": [
    "annual_traffic_unstack['PctDiff_20_19'].idxmin()"
   ]
  },
  {
   "cell_type": "code",
   "execution_count": 17,
   "id": "7655aaff",
   "metadata": {},
   "outputs": [
    {
     "name": "stdout",
     "output_type": "stream",
     "text": [
      "The biggest drop in traffic was -95.40%\n"
     ]
    }
   ],
   "source": [
    "biggest_pct_drop = annual_traffic_unstack.loc[annual_traffic_unstack['PctDiff_20_19'].idxmin(),'PctDiff_20_19']\n",
    "\n",
    "print(\"The biggest drop in traffic was {:.2%}\".format(biggest_pct_drop))"
   ]
  },
  {
   "cell_type": "code",
   "execution_count": 18,
   "id": "72419402",
   "metadata": {},
   "outputs": [
    {
     "data": {
      "text/plain": [
       "'ON I-70 E/O SH 82, GLENWOOD SPRINGS'"
      ]
     },
     "execution_count": 18,
     "metadata": {},
     "output_type": "execute_result"
    }
   ],
   "source": [
    "station_df.loc[105,'Location']"
   ]
  },
  {
   "cell_type": "code",
   "execution_count": 19,
   "id": "246bf268",
   "metadata": {},
   "outputs": [
    {
     "data": {
      "text/plain": [
       "3"
      ]
     },
     "execution_count": 19,
     "metadata": {},
     "output_type": "execute_result"
    }
   ],
   "source": [
    "c0 = traffic_df['COUNTSTATIONID'] == 105\n",
    "c1 = traffic_df['DIR'] == 'EAST'\n",
    "c2 = traffic_df['COUNTDATE'].dt.year == 2020\n",
    "c3 = traffic_df['COUNTDATE'].dt.month == 4\n",
    "\n",
    "traffic_df.loc[c0 & c1 & c2 & c3,'COUNTDATE'].nunique()"
   ]
  },
  {
   "cell_type": "code",
   "execution_count": 20,
   "id": "0b821f85",
   "metadata": {},
   "outputs": [
    {
     "data": {
      "text/plain": [
       "1096"
      ]
     },
     "execution_count": 20,
     "metadata": {},
     "output_type": "execute_result"
    }
   ],
   "source": [
    "# Use date range to enumerate all the dates from Jan 1 2019 thru Dec 31 2021\n",
    "all_dates = len(pd.date_range('2019-01-01','2021-12-31'))\n",
    "all_dates"
   ]
  },
  {
   "cell_type": "code",
   "execution_count": 21,
   "id": "ce223997",
   "metadata": {},
   "outputs": [
    {
     "data": {
      "text/plain": [
       "1.0"
      ]
     },
     "execution_count": 21,
     "metadata": {},
     "output_type": "execute_result"
    }
   ],
   "source": [
    "# Group by station ID and direction and aggregate the number of unique dates\n",
    "station_date_counts = traffic_df.groupby(['COUNTSTATIONID','DIR']).agg({'COUNTDATE':'nunique'})\n",
    "\n",
    "# Check if the number of unique dates is less than all the dates that should be there\n",
    "lessthan_true_dates = station_date_counts['COUNTDATE'] < all_dates\n",
    "\n",
    "# What fraction of stations have less than the number of all_dates\n",
    "lessthan_true_dates.sum() / len(station_date_counts)"
   ]
  },
  {
   "cell_type": "code",
   "execution_count": 22,
   "id": "5c8f8c79",
   "metadata": {},
   "outputs": [
    {
     "data": {
      "text/plain": [
       "COUNTDATE    0.934527\n",
       "dtype: float64"
      ]
     },
     "execution_count": 22,
     "metadata": {},
     "output_type": "execute_result"
    }
   ],
   "source": [
    "(station_date_counts/all_dates).mean()"
   ]
  },
  {
   "cell_type": "code",
   "execution_count": null,
   "id": "f970ed32",
   "metadata": {},
   "outputs": [],
   "source": [
    "unique_lat_longs = pd.pivot_table(\n",
    "    data = cdot_df,\n",
    "    index = 'COUNTSTATIONID',\n",
    "    columns = ['DIR'],\n",
    "    values = ['Latitude','Longitude'],\n",
    "    aggfunc = 'nunique'\n",
    ")\n",
    "\n",
    "unique_lat_longs.stack().sort_values('Latitude',ascending=False)"
   ]
  }
 ],
 "metadata": {
  "kernelspec": {
   "display_name": "Python 3 (ipykernel)",
   "language": "python",
   "name": "python3"
  },
  "language_info": {
   "codemirror_mode": {
    "name": "ipython",
    "version": 3
   },
   "file_extension": ".py",
   "mimetype": "text/x-python",
   "name": "python",
   "nbconvert_exporter": "python",
   "pygments_lexer": "ipython3",
   "version": "3.8.13"
  }
 },
 "nbformat": 4,
 "nbformat_minor": 5
}
